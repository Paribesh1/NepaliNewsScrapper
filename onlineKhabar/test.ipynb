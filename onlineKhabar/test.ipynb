{
 "cells": [
  {
   "cell_type": "code",
   "execution_count": 25,
   "metadata": {},
   "outputs": [],
   "source": [
    "import requests\n",
    "import warnings\n",
    "warnings.filterwarnings(\"ignore\")\n",
    "from bs4 import BeautifulSoup\n",
    "import csv"
   ]
  },
  {
   "cell_type": "code",
   "execution_count": 26,
   "metadata": {},
   "outputs": [],
   "source": [
    "url = \"https://www.onlinekhabar.com/2023/10/1375150\"\n"
   ]
  },
  {
   "cell_type": "code",
   "execution_count": 27,
   "metadata": {},
   "outputs": [],
   "source": [
    "response = requests.get(url)\n"
   ]
  },
  {
   "cell_type": "code",
   "execution_count": 28,
   "metadata": {},
   "outputs": [],
   "source": [
    "soup = BeautifulSoup(response.content, 'html.parser')"
   ]
  },
  {
   "cell_type": "code",
   "execution_count": 29,
   "metadata": {},
   "outputs": [],
   "source": [
    "headline = soup.find_all('h1')"
   ]
  },
  {
   "cell_type": "code",
   "execution_count": 30,
   "metadata": {},
   "outputs": [],
   "source": [
    "paragraphs = soup.find_all('p')"
   ]
  },
  {
   "cell_type": "code",
   "execution_count": 31,
   "metadata": {},
   "outputs": [],
   "source": [
    "headline_text = headline[0].text if headline else \"\"\n",
    "content_text = '\\n'.join([p.text for p in paragraphs])"
   ]
  },
  {
   "cell_type": "code",
   "execution_count": 32,
   "metadata": {},
   "outputs": [
    {
     "name": "stdout",
     "output_type": "stream",
     "text": [
      "Headline: मीनबहादुर विष्टको कविता संग्रह ‘साला पहाडमें क्या है’ सार्वजनिक\n",
      "\n",
      "Content: काठमाडौं । कवि मीनबहादुर विष्टको कविता संग्रह ‘साला पहाडमें क्या है’ सार्वजनिक भएको छ । यसमा आधुनिक नेपाली समाजका विविध पाटोहरु झल्काउने ६४ कविता समावेश गरिएका छन् । यस कृतिले पछिल्लो ५० वर्षको समयावधिलाई प्रतिनिधित्व गर्छ ।\n",
      "प्युठानमा २०११ सालमा जन्मिएका कवि विष्टले त्रिभुवन विश्वविद्यालयबाट शिक्षाशास्त्रमा स्नातकोत्तर गरेका छन् । अमेरिकाको युनिभर्सिटी अफ क्यालिफोर्नियाबाट शिक्षा नीति विषयमा विद्यावारिधि गरेका उनी आलोचनात्मक चेतका कवि मानिन्छन् ।\n",
      "आफ्नै शैक्षिक र प्राज्ञिक व्यस्तताका कारण केही समय कवि–परिचयबाट टाढिएका विष्ट २०३६ सालको चर्चित ‘सडक कविता क्रान्ति’का एक सहभागी पनि हुन् ।\n",
      "विष्टको यो कविता संग्रहमा ‘यसरी एउटा राष्ट्र बाँच्ने बहाना गर्छ’, ‘चुनावपछिको गाउँ’, ‘जर्साबको कुकुर’, ‘नागरिकता’, ‘एउटा अलपत्र देश’, ‘लासहरुको सगरमाथा’ लगायत कालजयी रचनाहरु समाविष्ट छन् ।\n",
      "खुसी\n",
      "दुःखी\n",
      "अचम्मित\n",
      "उत्साहित\n",
      "आक्रोशित\n",
      "Forgot Password?\n"
     ]
    }
   ],
   "source": [
    "print(\"Headline:\", headline_text)\n",
    "print(\"\\nContent:\", content_text)"
   ]
  },
  {
   "cell_type": "code",
   "execution_count": null,
   "metadata": {},
   "outputs": [],
   "source": []
  }
 ],
 "metadata": {
  "kernelspec": {
   "display_name": "env",
   "language": "python",
   "name": "python3"
  },
  "language_info": {
   "codemirror_mode": {
    "name": "ipython",
    "version": 3
   },
   "file_extension": ".py",
   "mimetype": "text/x-python",
   "name": "python",
   "nbconvert_exporter": "python",
   "pygments_lexer": "ipython3",
   "version": "3.10.12"
  }
 },
 "nbformat": 4,
 "nbformat_minor": 2
}
