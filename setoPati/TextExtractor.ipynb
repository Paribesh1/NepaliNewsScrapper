{
 "cells": [
  {
   "cell_type": "code",
   "execution_count": 1,
   "metadata": {},
   "outputs": [],
   "source": [
    "import requests\n",
    "import warnings\n",
    "warnings.filterwarnings(\"ignore\")\n",
    "from bs4 import BeautifulSoup\n",
    "from datetime import date, timedelta\n",
    "import time\n",
    "import pandas as pd\n",
    "import csv\n",
    "import openpyxl\n",
    "from urllib.request import urlopen, Request"
   ]
  },
  {
   "cell_type": "code",
   "execution_count": 2,
   "metadata": {},
   "outputs": [],
   "source": [
    "def get_headline_and_content(url):\n",
    "    response = requests.get(url)\n",
    "    soup = BeautifulSoup(response.content, 'html.parser')\n",
    "    headline = soup.find_all('h1')\n",
    "    paragraphs = soup.find_all('p')\n",
    "    headline_text = headline[0].text if headline else \"\"\n",
    "    content_text = ' '.join([p.text for p in paragraphs])  # Join paragraphs without newlines\n",
    "    return headline_text, content_text"
   ]
  },
  {
   "cell_type": "code",
   "execution_count": 3,
   "metadata": {},
   "outputs": [],
   "source": [
    "# Read hyperlinks from the extracted_hyperlinks.txt file\n",
    "with open('extracted_hyperlinks1.txt', 'r') as file:\n",
    "    hyperlinks = file.readlines()"
   ]
  },
  {
   "cell_type": "code",
   "execution_count": 4,
   "metadata": {},
   "outputs": [],
   "source": [
    "# Create a list to store extracted data\n",
    "extracted_data = []"
   ]
  },
  {
   "cell_type": "code",
   "execution_count": 5,
   "metadata": {},
   "outputs": [],
   "source": [
    "for url in hyperlinks:\n",
    "    url = url.strip()  # Remove leading/trailing whitespace\n",
    "    headline, content = get_headline_and_content(url)\n",
    "    extracted_data.append([headline, content])"
   ]
  },
  {
   "cell_type": "code",
   "execution_count": 6,
   "metadata": {},
   "outputs": [],
   "source": [
    "# Write extracted data to a CSV file\n",
    "with open('extracted1_data.csv', 'w', newline='', encoding='utf-8') as csvfile:\n",
    "    fieldnames = ['Headline', 'Content']\n",
    "    writer = csv.DictWriter(csvfile, fieldnames=fieldnames)\n",
    "    writer.writeheader()\n",
    "    for data in extracted_data:\n",
    "        writer.writerow({'Headline': data[0], 'Content': data[1]})\n",
    "\n"
   ]
  },
  {
   "cell_type": "code",
   "execution_count": null,
   "metadata": {},
   "outputs": [],
   "source": []
  },
  {
   "cell_type": "code",
   "execution_count": null,
   "metadata": {},
   "outputs": [],
   "source": []
  }
 ],
 "metadata": {
  "kernelspec": {
   "display_name": "env",
   "language": "python",
   "name": "python3"
  },
  "language_info": {
   "codemirror_mode": {
    "name": "ipython",
    "version": 3
   },
   "file_extension": ".py",
   "mimetype": "text/x-python",
   "name": "python",
   "nbconvert_exporter": "python",
   "pygments_lexer": "ipython3",
   "version": "3.10.12"
  }
 },
 "nbformat": 4,
 "nbformat_minor": 2
}
