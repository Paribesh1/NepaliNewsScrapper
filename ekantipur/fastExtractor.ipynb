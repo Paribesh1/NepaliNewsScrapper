{
 "cells": [
  {
   "cell_type": "code",
   "execution_count": 158,
   "metadata": {},
   "outputs": [],
   "source": [
    "import warnings\n",
    "from multiprocessing.pool import ThreadPool\n",
    "import requests\n",
    "from bs4 import BeautifulSoup"
   ]
  },
  {
   "cell_type": "code",
   "execution_count": 159,
   "metadata": {},
   "outputs": [],
   "source": [
    "warnings.filterwarnings(\"ignore\")"
   ]
  },
  {
   "cell_type": "code",
   "execution_count": 160,
   "metadata": {},
   "outputs": [],
   "source": [
    "keywords = [\n",
    "    \"प्रहरी\", \"अपराध\",\n",
    "    \"अवैध\",\n",
    "    \"गिरफ्तार\",\n",
    "    \"हत्या\",\n",
    "    \"अतिक्रमण\",\n",
    "    \"उत्पीडन\", \"कुटाइ\", \"शोषण\", \"बलात्कार\",\n",
    "    \"बालश्रम\", \"बाल श्रम\", \"बाल विवाह\",\n",
    "    \"अपहरण\",\n",
    "    \"डकैती\",\n",
    "    \"चोरी\", \"चोर\", \"तस्करी\", \"तस्कर\", \"मानव तस्करी\",\n",
    "    \"मानव बेचबिखन\", \"मादक पदार्थ\", \"नशा\", \"चरस\", \"अफिम\", \"लागूऔषध\", \"भ्रष्टाचार\",\n",
    "    \"भ्रष्टाचारी\", \"अपहरण\", \"नकली\", \"कृत्य\",\n",
    "    \"जुवातास\", \"जुवा\",\n",
    "    \"ठगी\", \"ठग\"\n",
    "]"
   ]
  },
  {
   "cell_type": "code",
   "execution_count": 161,
   "metadata": {},
   "outputs": [],
   "source": [
    "def get_link(url):\n",
    "    try:\n",
    "        getpage = requests.get(url, verify=False)\n",
    "        soup = BeautifulSoup(getpage.text, 'html.parser')\n",
    "        headline = soup.find(\"div\", {\"class\": \"article-header\"}).h1\n",
    "        body = soup.find(\"div\", {\"class\": \"description\"}).find_all('p')\n",
    "        content = headline.text + \"\\n\" + ' '.join([p.text for p in body])\n",
    "        for keyword in keywords:\n",
    "            if keyword in content:\n",
    "                return url\n",
    "    except Exception as e:\n",
    "        print(f\"Could not open Url: {url}\")\n",
    "        with open(\"error_links.txt\", \"a\") as error_file:\n",
    "            error_file.write(url + '\\n')"
   ]
  },
  {
   "cell_type": "code",
   "execution_count": 162,
   "metadata": {},
   "outputs": [],
   "source": [
    "def process_links(links):\n",
    "    results = []\n",
    "    with ThreadPool(processes=10) as pool:\n",
    "        for result in pool.imap_unordered(get_link, links):\n",
    "            if result is not None:\n",
    "                results.append(result)\n",
    "    return results"
   ]
  },
  {
   "cell_type": "code",
   "execution_count": 163,
   "metadata": {},
   "outputs": [],
   "source": [
    "if __name__ == \"__main__\":\n",
    "    with open(\"till1000.txt\", 'r') as f:\n",
    "        links = f.read().splitlines()\n",
    "        extracted_links = process_links(links)\n",
    "        with open(\"ForExtractionOneYear7Pradesh2.txt\", \"a\") as f_out:\n",
    "            for link in extracted_links:\n",
    "                f_out.write(link + '\\n')"
   ]
  },
  {
   "cell_type": "code",
   "execution_count": null,
   "metadata": {},
   "outputs": [],
   "source": []
  },
  {
   "cell_type": "code",
   "execution_count": null,
   "metadata": {},
   "outputs": [],
   "source": []
  }
 ],
 "metadata": {
  "kernelspec": {
   "display_name": "env",
   "language": "python",
   "name": "python3"
  },
  "language_info": {
   "codemirror_mode": {
    "name": "ipython",
    "version": 3
   },
   "file_extension": ".py",
   "mimetype": "text/x-python",
   "name": "python",
   "nbconvert_exporter": "python",
   "pygments_lexer": "ipython3",
   "version": "3.10.12"
  }
 },
 "nbformat": 4,
 "nbformat_minor": 2
}
