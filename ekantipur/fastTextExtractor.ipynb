{
 "cells": [
  {
   "cell_type": "code",
   "execution_count": 128,
   "metadata": {},
   "outputs": [],
   "source": [
    "import requests\n",
    "import warnings\n",
    "from bs4 import BeautifulSoup\n",
    "import csv\n",
    "from multiprocessing.pool import ThreadPool"
   ]
  },
  {
   "cell_type": "code",
   "execution_count": 129,
   "metadata": {},
   "outputs": [],
   "source": [
    "warnings.filterwarnings(\"ignore\")"
   ]
  },
  {
   "cell_type": "code",
   "execution_count": 130,
   "metadata": {},
   "outputs": [],
   "source": [
    "def extract_article_data(url):\n",
    "    try:\n",
    "        headers = {'Content-Type': 'text/html'}\n",
    "        getpage = requests.get(url, headers=headers, verify=False)\n",
    "        soup = BeautifulSoup(getpage.text, 'html.parser')\n",
    "        headline = soup.find(\"div\", {\"class\": \"article-header\"}).h1.text.strip()\n",
    "        content = soup.find(\"div\", {\"class\": \"description\"}).text.strip()\n",
    "        return headline, content\n",
    "    except Exception as e:\n",
    "        print(e, url)\n",
    "        with open(\"recover.txt\", \"a+\") as f:\n",
    "            f.write(url + '\\n')\n",
    "        return None, None"
   ]
  },
  {
   "cell_type": "code",
   "execution_count": 131,
   "metadata": {},
   "outputs": [],
   "source": [
    "def process_urls(urls):\n",
    "    results = []\n",
    "    with ThreadPool(processes=10) as pool:\n",
    "        for result in pool.imap_unordered(extract_article_data, urls):\n",
    "            if result[0] is not None:\n",
    "                results.append(result)\n",
    "    return results\n"
   ]
  },
  {
   "cell_type": "code",
   "execution_count": 132,
   "metadata": {},
   "outputs": [],
   "source": [
    "if __name__ == \"__main__\":\n",
    "    with open('ForExtractionOneYear7Pradesh2.csv', 'a+', newline='', encoding='utf-8') as file:\n",
    "        writer = csv.writer(file)\n",
    "        writer.writerow([\"Headline\", \"Content\"])\n",
    "        with open(\"ForExtractionOneYear7Pradesh2.txt\", 'r') as f:\n",
    "            urls = f.read().splitlines()\n",
    "            extracted_data = process_urls(urls)\n",
    "            for headline, content in extracted_data:\n",
    "                writer.writerow([headline, content])\n"
   ]
  },
  {
   "cell_type": "code",
   "execution_count": null,
   "metadata": {},
   "outputs": [],
   "source": []
  },
  {
   "cell_type": "code",
   "execution_count": null,
   "metadata": {},
   "outputs": [],
   "source": []
  },
  {
   "cell_type": "code",
   "execution_count": null,
   "metadata": {},
   "outputs": [],
   "source": []
  }
 ],
 "metadata": {
  "kernelspec": {
   "display_name": "env",
   "language": "python",
   "name": "python3"
  },
  "language_info": {
   "codemirror_mode": {
    "name": "ipython",
    "version": 3
   },
   "file_extension": ".py",
   "mimetype": "text/x-python",
   "name": "python",
   "nbconvert_exporter": "python",
   "pygments_lexer": "ipython3",
   "version": "3.10.12"
  }
 },
 "nbformat": 4,
 "nbformat_minor": 2
}
