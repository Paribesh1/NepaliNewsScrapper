{
 "cells": [
  {
   "cell_type": "code",
   "execution_count": 1,
   "metadata": {},
   "outputs": [],
   "source": [
    "import random\n",
    "\n",
    "# Read the list of hyperlinks from the file\n",
    "with open(\"cleanGorkhaPatraProvince5.txt\", \"r\") as file:\n",
    "    hyperlinks = file.readlines()\n",
    "\n",
    "# Ensure that the number of hyperlinks to pick is not more than the total available\n",
    "num_hyperlinks_to_pick = min(100, len(hyperlinks))\n",
    "\n",
    "# Randomly select 2000 hyperlinks\n",
    "random_hyperlinks = random.sample(hyperlinks, num_hyperlinks_to_pick)\n",
    "\n",
    "# Write the selected hyperlinks to a new file\n",
    "with open(\"GorkhaPatraProvience5_RndmSorting.txt\", \"w\") as file:\n",
    "    file.writelines(random_hyperlinks)\n"
   ]
  },
  {
   "cell_type": "code",
   "execution_count": null,
   "metadata": {},
   "outputs": [],
   "source": []
  }
 ],
 "metadata": {
  "kernelspec": {
   "display_name": "env",
   "language": "python",
   "name": "python3"
  },
  "language_info": {
   "codemirror_mode": {
    "name": "ipython",
    "version": 3
   },
   "file_extension": ".py",
   "mimetype": "text/x-python",
   "name": "python",
   "nbconvert_exporter": "python",
   "pygments_lexer": "ipython3",
   "version": "3.10.12"
  }
 },
 "nbformat": 4,
 "nbformat_minor": 2
}
