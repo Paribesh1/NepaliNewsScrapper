{
 "cells": [
  {
   "cell_type": "code",
   "execution_count": 120,
   "metadata": {},
   "outputs": [],
   "source": [
    "import requests\n",
    "import warnings\n",
    "warnings.filterwarnings(\"ignore\")\n",
    "from bs4 import BeautifulSoup\n",
    "import csv"
   ]
  },
  {
   "cell_type": "code",
   "execution_count": 121,
   "metadata": {},
   "outputs": [],
   "source": [
    "def extract_article_data(url):\n",
    "    headers = {'Content-Type': 'text/html'}\n",
    "    getpage = requests.get(url, headers=headers, verify=False)\n",
    "    \n",
    "    if getpage.status_code == 200:\n",
    "        soup = BeautifulSoup(getpage.text, 'html.parser')\n",
    "        \n",
    "        # Extract headline\n",
    "        headlines = soup.find_all('h1')\n",
    "        headline = headlines[0].text.strip() if headlines else \"Headline not found\"\n",
    "        \n",
    "        # Extract content\n",
    "        content = soup.find_all('p')\n",
    "        \n",
    "        # Define phrases to exclude\n",
    "        exclude_phrases = [\"धर्मपथ, काठमाडौँ, नेपाल\", \"अनलाइन प्रकाशन :\", \"विज्ञापन शाखा :\", \"टोल -फ्री न. :\", \"इमेल :\", \"सूचना तथा प्रशारण विभाग दर्ता :\", \"कार्यकारी अध्यक्ष\", \"महाप्रबन्धक\", \"निमित्त प्रधानसम्पादक\", \"निमित्त सम्पादक\"]\n",
    "        \n",
    "        # Filter out unwanted paragraphs\n",
    "        paragraphs = [p.text.strip() for p in content if not any(phrase in p.text for phrase in exclude_phrases)]\n",
    "        \n",
    "        return headline, paragraphs\n",
    "    else:\n",
    "        return \"Error: Unable to retrieve content\", []\n",
    "\n"
   ]
  },
  {
   "cell_type": "code",
   "execution_count": 122,
   "metadata": {},
   "outputs": [],
   "source": [
    "url = \"https://gorkhapatraonline.com/news/80687\"\n",
    "headline, content = extract_article_data(url)\n"
   ]
  },
  {
   "cell_type": "code",
   "execution_count": 123,
   "metadata": {},
   "outputs": [
    {
     "name": "stdout",
     "output_type": "stream",
     "text": [
      "Data saved to news_data.csv\n"
     ]
    }
   ],
   "source": [
    "# Save data to CSV\n",
    "with open('news_data.csv', mode='w', newline='', encoding='utf-8') as file:\n",
    "    writer = csv.writer(file)\n",
    "    writer.writerow(['Headline', 'Content'])\n",
    "    writer.writerow([headline, \"\\n\".join(content)])\n",
    "\n",
    "print(\"Data saved to news_data.csv\")"
   ]
  },
  {
   "cell_type": "code",
   "execution_count": null,
   "metadata": {},
   "outputs": [],
   "source": []
  },
  {
   "cell_type": "code",
   "execution_count": null,
   "metadata": {},
   "outputs": [],
   "source": []
  }
 ],
 "metadata": {
  "kernelspec": {
   "display_name": "env",
   "language": "python",
   "name": "python3"
  },
  "language_info": {
   "codemirror_mode": {
    "name": "ipython",
    "version": 3
   },
   "file_extension": ".py",
   "mimetype": "text/x-python",
   "name": "python",
   "nbconvert_exporter": "python",
   "pygments_lexer": "ipython3",
   "version": "3.10.12"
  }
 },
 "nbformat": 4,
 "nbformat_minor": 2
}
