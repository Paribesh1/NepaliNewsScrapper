{
 "cells": [
  {
   "cell_type": "code",
   "execution_count": 1,
   "metadata": {},
   "outputs": [],
   "source": [
    "import requests\n",
    "import warnings\n",
    "warnings.filterwarnings(\"ignore\")\n",
    "from bs4 import BeautifulSoup\n",
    "from datetime import date, timedelta\n",
    "import time\n",
    "import pandas as pd\n",
    "import csv\n",
    "import openpyxl\n",
    "from urllib.request import urlopen, Request"
   ]
  },
  {
   "cell_type": "code",
   "execution_count": 2,
   "metadata": {},
   "outputs": [],
   "source": [
    "def extract_article_data(url):\n",
    "    headers = {'Content-Type': 'text/html'}\n",
    "    getpage = requests.get(url, headers=headers, verify=False)\n",
    "    soup = BeautifulSoup(getpage.text, 'html.parser')\n",
    "    headlines = soup.find_all('h1')\n",
    "    headline = headlines[0].text.strip()\n",
    "    paragraphs = soup.find_all('p')\n",
    "    content = [p.text.strip() for p in paragraphs if p.text.strip()]  # Filter out empty paragraphs\n",
    "\n",
    "    return headline, content"
   ]
  },
  {
   "cell_type": "code",
   "execution_count": 3,
   "metadata": {},
   "outputs": [],
   "source": [
    "with open('FinalgorkhapatraPradesh5_forlabel.csv', 'a+', newline='', encoding='utf-8') as file:\n",
    "    writer = csv.writer(file)\n",
    "    writer.writerow([\"Headline\", \"Content\"])\n",
    "    with open(\"GorkhaPatraPradesh5_KywdFilteredLinks.txt\", 'r', encoding='utf-8') as f:\n",
    "        urls = f.read().splitlines()\n",
    "        for url in urls:\n",
    "            try:\n",
    "                headline, content = extract_article_data(url)\n",
    "                writer.writerow([headline, ' '.join(content)])  # Join paragraphs into a single string\n",
    "            except Exception as e:\n",
    "                print(e, url)\n",
    "                with open (\"recover.txt\", \"a+\", encoding='utf-8') as f:\n",
    "                    f.write(url + '\\n')\n",
    "                continue"
   ]
  },
  {
   "cell_type": "code",
   "execution_count": null,
   "metadata": {},
   "outputs": [],
   "source": []
  },
  {
   "cell_type": "code",
   "execution_count": null,
   "metadata": {},
   "outputs": [],
   "source": []
  },
  {
   "cell_type": "code",
   "execution_count": null,
   "metadata": {},
   "outputs": [],
   "source": []
  }
 ],
 "metadata": {
  "kernelspec": {
   "display_name": "env",
   "language": "python",
   "name": "python3"
  },
  "language_info": {
   "codemirror_mode": {
    "name": "ipython",
    "version": 3
   },
   "file_extension": ".py",
   "mimetype": "text/x-python",
   "name": "python",
   "nbconvert_exporter": "python",
   "pygments_lexer": "ipython3",
   "version": "3.10.12"
  }
 },
 "nbformat": 4,
 "nbformat_minor": 2
}
